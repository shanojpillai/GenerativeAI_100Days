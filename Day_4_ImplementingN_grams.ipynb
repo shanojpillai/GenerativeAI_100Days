{
  "nbformat": 4,
  "nbformat_minor": 0,
  "metadata": {
    "colab": {
      "provenance": [],
      "authorship_tag": "ABX9TyNqHnfB2UUyH6IiU2fGMmlE",
      "include_colab_link": true
    },
    "kernelspec": {
      "name": "python3",
      "display_name": "Python 3"
    },
    "language_info": {
      "name": "python"
    }
  },
  "cells": [
    {
      "cell_type": "markdown",
      "metadata": {
        "id": "view-in-github",
        "colab_type": "text"
      },
      "source": [
        "<a href=\"https://colab.research.google.com/github/shanojpillai/GenerativeAI_100Days/blob/main/Day_4_ImplementingN_grams.ipynb\" target=\"_parent\"><img src=\"https://colab.research.google.com/assets/colab-badge.svg\" alt=\"Open In Colab\"/></a>"
      ]
    },
    {
      "cell_type": "code",
      "execution_count": 1,
      "metadata": {
        "colab": {
          "base_uri": "https://localhost:8080/"
        },
        "id": "bOdxrylt2e9C",
        "outputId": "f9e9faa5-db6a-41e0-ada0-bf1c194de5d4"
      },
      "outputs": [
        {
          "output_type": "stream",
          "name": "stdout",
          "text": [
            "Unigram Vocabulary: ['do' 'love' 'nlp' 'not']\n",
            "Unigram Matrix:\n",
            " [[0 1 1 0]\n",
            " [1 1 1 1]]\n",
            "\n",
            "Bigram Vocabulary: ['do not' 'love nlp' 'not love']\n",
            "Bigram Matrix:\n",
            " [[0 1 0]\n",
            " [1 1 1]]\n"
          ]
        }
      ],
      "source": [
        "from sklearn.feature_extraction.text import CountVectorizer\n",
        "\n",
        "# Define the corpus\n",
        "corpus = [\n",
        "    \"I love NLP\",\n",
        "    \"I do not love NLP\"\n",
        "]\n",
        "\n",
        "# Unigram model (single words)\n",
        "unigram_vectorizer = CountVectorizer(ngram_range=(1, 1), binary=True)\n",
        "unigram_matrix = unigram_vectorizer.fit_transform(corpus).toarray()\n",
        "print(\"Unigram Vocabulary:\", unigram_vectorizer.get_feature_names_out())\n",
        "print(\"Unigram Matrix:\\n\", unigram_matrix)\n",
        "\n",
        "# Bigram model (two-word combinations)\n",
        "bigram_vectorizer = CountVectorizer(ngram_range=(2, 2), binary=True)\n",
        "bigram_matrix = bigram_vectorizer.fit_transform(corpus).toarray()\n",
        "print(\"\\nBigram Vocabulary:\", bigram_vectorizer.get_feature_names_out())\n",
        "print(\"Bigram Matrix:\\n\", bigram_matrix)\n"
      ]
    },
    {
      "cell_type": "markdown",
      "source": [
        "# Implementing Unigrams, Bigrams, and Trigrams in Python"
      ],
      "metadata": {
        "id": "mYEf157-3FaZ"
      }
    },
    {
      "cell_type": "code",
      "source": [
        "from sklearn.feature_extraction.text import CountVectorizer\n",
        "\n",
        "# Define the corpus\n",
        "corpus = [\n",
        "    \"I love NLP\",\n",
        "    \"I do not love NLP\"\n",
        "]\n",
        "\n",
        "# Unigram, bigram, and trigram model (1,3) range\n",
        "ngram_vectorizer = CountVectorizer(ngram_range=(1, 3), binary=True)\n",
        "ngram_matrix = ngram_vectorizer.fit_transform(corpus).toarray()\n",
        "print(\"N-gram Vocabulary:\", ngram_vectorizer.get_feature_names_out())\n",
        "print(\"N-gram Matrix:\\n\", ngram_matrix)\n"
      ],
      "metadata": {
        "colab": {
          "base_uri": "https://localhost:8080/"
        },
        "id": "W58IJH8x3Gf7",
        "outputId": "f17041db-b516-47eb-918b-0c0114ac2dea"
      },
      "execution_count": 3,
      "outputs": [
        {
          "output_type": "stream",
          "name": "stdout",
          "text": [
            "N-gram Vocabulary: ['do' 'do not' 'do not love' 'love' 'love nlp' 'nlp' 'not' 'not love'\n",
            " 'not love nlp']\n",
            "N-gram Matrix:\n",
            " [[0 0 0 1 1 1 0 0 0]\n",
            " [1 1 1 1 1 1 1 1 1]]\n"
          ]
        }
      ]
    }
  ]
}