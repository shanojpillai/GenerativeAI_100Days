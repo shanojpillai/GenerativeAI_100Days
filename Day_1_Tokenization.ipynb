{
  "nbformat": 4,
  "nbformat_minor": 0,
  "metadata": {
    "colab": {
      "provenance": [],
      "toc_visible": true
    },
    "kernelspec": {
      "name": "python3",
      "display_name": "Python 3"
    },
    "language_info": {
      "name": "python"
    }
  },
  "cells": [
    {
      "cell_type": "code",
      "execution_count": 19,
      "metadata": {
        "colab": {
          "base_uri": "https://localhost:8080/"
        },
        "id": "VcvAri4exdYZ",
        "outputId": "2a9c68e0-2aa6-4a66-8dc9-5527c82b18df"
      },
      "outputs": [
        {
          "output_type": "stream",
          "name": "stdout",
          "text": [
            "Requirement already satisfied: nltk in /usr/local/lib/python3.10/dist-packages (3.8.1)\n",
            "Requirement already satisfied: click in /usr/local/lib/python3.10/dist-packages (from nltk) (8.1.7)\n",
            "Requirement already satisfied: joblib in /usr/local/lib/python3.10/dist-packages (from nltk) (1.4.2)\n",
            "Requirement already satisfied: regex>=2021.8.3 in /usr/local/lib/python3.10/dist-packages (from nltk) (2024.9.11)\n",
            "Requirement already satisfied: tqdm in /usr/local/lib/python3.10/dist-packages (from nltk) (4.66.6)\n"
          ]
        }
      ],
      "source": [
        "pip install nltk"
      ]
    },
    {
      "cell_type": "code",
      "source": [
        "import nltk\n",
        "\n",
        "# Download the 'punkt' resource\n",
        "nltk.download('punkt')"
      ],
      "metadata": {
        "colab": {
          "base_uri": "https://localhost:8080/"
        },
        "id": "xV4252vj0BGe",
        "outputId": "4e8f5bf7-3f9a-420f-e677-b4bb88a8ca97"
      },
      "execution_count": 20,
      "outputs": [
        {
          "output_type": "stream",
          "name": "stderr",
          "text": [
            "[nltk_data] Downloading package punkt to /root/nltk_data...\n",
            "[nltk_data]   Package punkt is already up-to-date!\n"
          ]
        },
        {
          "output_type": "execute_result",
          "data": {
            "text/plain": [
              "True"
            ]
          },
          "metadata": {},
          "execution_count": 20
        }
      ]
    },
    {
      "cell_type": "code",
      "source": [
        "corpus=\"\"\"Starting with machine learning basics, NLP extends supervised machine learning's classification and regression approaches to text-based problems.\n",
        "An example is spam classification, where emails are labeled as spam or not, based on text features like subject and body.\n",
        "The challenge lies in making text understandable to models, which don’t naturally process language as humans do.\"\"\""
      ],
      "metadata": {
        "id": "23YrniNxylrN"
      },
      "execution_count": 21,
      "outputs": []
    },
    {
      "cell_type": "code",
      "source": [
        "print (corpus)"
      ],
      "metadata": {
        "colab": {
          "base_uri": "https://localhost:8080/"
        },
        "id": "e_mRZXggyluT",
        "outputId": "06b8dbe0-a6b9-481c-dd76-1661a64af5fd"
      },
      "execution_count": 22,
      "outputs": [
        {
          "output_type": "stream",
          "name": "stdout",
          "text": [
            "Starting with machine learning basics, NLP extends supervised machine learning's classification and regression approaches to text-based problems. \n",
            "An example is spam classification, where emails are labeled as spam or not, based on text features like subject and body. \n",
            "The challenge lies in making text understandable to models, which don’t naturally process language as humans do.\n"
          ]
        }
      ]
    },
    {
      "cell_type": "markdown",
      "source": [
        "# Tokenization\n",
        "--> Sentence --> paragraphs"
      ],
      "metadata": {
        "id": "F_jfPXjBzGmP"
      }
    },
    {
      "cell_type": "code",
      "source": [
        "## Tokenization"
      ],
      "metadata": {
        "id": "1NgfAJGOylxX"
      },
      "execution_count": 23,
      "outputs": []
    },
    {
      "cell_type": "code",
      "source": [
        "from nltk.tokenize import sent_tokenize as sent"
      ],
      "metadata": {
        "id": "uuq5kN8Gylz4"
      },
      "execution_count": 24,
      "outputs": []
    },
    {
      "cell_type": "code",
      "source": [
        "documets = sent(corpus)"
      ],
      "metadata": {
        "id": "oCSFbk4ryl2U"
      },
      "execution_count": 25,
      "outputs": []
    },
    {
      "cell_type": "code",
      "source": [
        "print(documets)"
      ],
      "metadata": {
        "colab": {
          "base_uri": "https://localhost:8080/"
        },
        "id": "PGeyxzRnyl45",
        "outputId": "fc76b4a2-5649-4563-f7d2-7d19ceab1708"
      },
      "execution_count": 27,
      "outputs": [
        {
          "output_type": "stream",
          "name": "stdout",
          "text": [
            "[\"Starting with machine learning basics, NLP extends supervised machine learning's classification and regression approaches to text-based problems.\", 'An example is spam classification, where emails are labeled as spam or not, based on text features like subject and body.', 'The challenge lies in making text understandable to models, which don’t naturally process language as humans do.']\n"
          ]
        }
      ]
    },
    {
      "cell_type": "code",
      "source": [
        "type(documets)"
      ],
      "metadata": {
        "colab": {
          "base_uri": "https://localhost:8080/"
        },
        "id": "H4lpPl8v0gb9",
        "outputId": "ed3cb5a1-36d0-458c-e5ed-aef79a82f4f8"
      },
      "execution_count": 28,
      "outputs": [
        {
          "output_type": "execute_result",
          "data": {
            "text/plain": [
              "list"
            ]
          },
          "metadata": {},
          "execution_count": 28
        }
      ]
    },
    {
      "cell_type": "code",
      "source": [
        "## sentance ---> words\n",
        "from nltk.tokenize import word_tokenize as word"
      ],
      "metadata": {
        "id": "mFvSYsGy0lg6"
      },
      "execution_count": 29,
      "outputs": []
    },
    {
      "cell_type": "code",
      "source": [
        "words = word(corpus)"
      ],
      "metadata": {
        "id": "VcJ2JV740zWO"
      },
      "execution_count": 30,
      "outputs": []
    },
    {
      "cell_type": "code",
      "source": [
        "words"
      ],
      "metadata": {
        "colab": {
          "base_uri": "https://localhost:8080/"
        },
        "id": "wTlGN8xl03Uc",
        "outputId": "66c2169b-79c7-498f-d182-09aca1bae055"
      },
      "execution_count": 31,
      "outputs": [
        {
          "output_type": "execute_result",
          "data": {
            "text/plain": [
              "['Starting',\n",
              " 'with',\n",
              " 'machine',\n",
              " 'learning',\n",
              " 'basics',\n",
              " ',',\n",
              " 'NLP',\n",
              " 'extends',\n",
              " 'supervised',\n",
              " 'machine',\n",
              " 'learning',\n",
              " \"'s\",\n",
              " 'classification',\n",
              " 'and',\n",
              " 'regression',\n",
              " 'approaches',\n",
              " 'to',\n",
              " 'text-based',\n",
              " 'problems',\n",
              " '.',\n",
              " 'An',\n",
              " 'example',\n",
              " 'is',\n",
              " 'spam',\n",
              " 'classification',\n",
              " ',',\n",
              " 'where',\n",
              " 'emails',\n",
              " 'are',\n",
              " 'labeled',\n",
              " 'as',\n",
              " 'spam',\n",
              " 'or',\n",
              " 'not',\n",
              " ',',\n",
              " 'based',\n",
              " 'on',\n",
              " 'text',\n",
              " 'features',\n",
              " 'like',\n",
              " 'subject',\n",
              " 'and',\n",
              " 'body',\n",
              " '.',\n",
              " 'The',\n",
              " 'challenge',\n",
              " 'lies',\n",
              " 'in',\n",
              " 'making',\n",
              " 'text',\n",
              " 'understandable',\n",
              " 'to',\n",
              " 'models',\n",
              " ',',\n",
              " 'which',\n",
              " 'don',\n",
              " '’',\n",
              " 't',\n",
              " 'naturally',\n",
              " 'process',\n",
              " 'language',\n",
              " 'as',\n",
              " 'humans',\n",
              " 'do',\n",
              " '.']"
            ]
          },
          "metadata": {},
          "execution_count": 31
        }
      ]
    },
    {
      "cell_type": "code",
      "source": [
        "for sentence in documets:\n",
        "    print(word(sentence))"
      ],
      "metadata": {
        "colab": {
          "base_uri": "https://localhost:8080/"
        },
        "id": "7aIhhOL206nO",
        "outputId": "405b5433-21a0-438e-aa2e-8799bd97b0a2"
      },
      "execution_count": 32,
      "outputs": [
        {
          "output_type": "stream",
          "name": "stdout",
          "text": [
            "['Starting', 'with', 'machine', 'learning', 'basics', ',', 'NLP', 'extends', 'supervised', 'machine', 'learning', \"'s\", 'classification', 'and', 'regression', 'approaches', 'to', 'text-based', 'problems', '.']\n",
            "['An', 'example', 'is', 'spam', 'classification', ',', 'where', 'emails', 'are', 'labeled', 'as', 'spam', 'or', 'not', ',', 'based', 'on', 'text', 'features', 'like', 'subject', 'and', 'body', '.']\n",
            "['The', 'challenge', 'lies', 'in', 'making', 'text', 'understandable', 'to', 'models', ',', 'which', 'don', '’', 't', 'naturally', 'process', 'language', 'as', 'humans', 'do', '.']\n"
          ]
        }
      ]
    },
    {
      "cell_type": "code",
      "source": [
        "from nltk.tokenize import wordpunct_tokenize"
      ],
      "metadata": {
        "id": "UlJIFita1uq2"
      },
      "execution_count": 35,
      "outputs": []
    },
    {
      "cell_type": "code",
      "source": [
        "wordpunct_tokenize(corpus)"
      ],
      "metadata": {
        "colab": {
          "base_uri": "https://localhost:8080/"
        },
        "id": "Kco-12xP17WQ",
        "outputId": "2b4c7f7c-6370-48f3-c4bc-99e9ca09d99d"
      },
      "execution_count": 36,
      "outputs": [
        {
          "output_type": "execute_result",
          "data": {
            "text/plain": [
              "['Starting',\n",
              " 'with',\n",
              " 'machine',\n",
              " 'learning',\n",
              " 'basics',\n",
              " ',',\n",
              " 'NLP',\n",
              " 'extends',\n",
              " 'supervised',\n",
              " 'machine',\n",
              " 'learning',\n",
              " \"'\",\n",
              " 's',\n",
              " 'classification',\n",
              " 'and',\n",
              " 'regression',\n",
              " 'approaches',\n",
              " 'to',\n",
              " 'text',\n",
              " '-',\n",
              " 'based',\n",
              " 'problems',\n",
              " '.',\n",
              " 'An',\n",
              " 'example',\n",
              " 'is',\n",
              " 'spam',\n",
              " 'classification',\n",
              " ',',\n",
              " 'where',\n",
              " 'emails',\n",
              " 'are',\n",
              " 'labeled',\n",
              " 'as',\n",
              " 'spam',\n",
              " 'or',\n",
              " 'not',\n",
              " ',',\n",
              " 'based',\n",
              " 'on',\n",
              " 'text',\n",
              " 'features',\n",
              " 'like',\n",
              " 'subject',\n",
              " 'and',\n",
              " 'body',\n",
              " '.',\n",
              " 'The',\n",
              " 'challenge',\n",
              " 'lies',\n",
              " 'in',\n",
              " 'making',\n",
              " 'text',\n",
              " 'understandable',\n",
              " 'to',\n",
              " 'models',\n",
              " ',',\n",
              " 'which',\n",
              " 'don',\n",
              " '’',\n",
              " 't',\n",
              " 'naturally',\n",
              " 'process',\n",
              " 'language',\n",
              " 'as',\n",
              " 'humans',\n",
              " 'do',\n",
              " '.']"
            ]
          },
          "metadata": {},
          "execution_count": 36
        }
      ]
    },
    {
      "cell_type": "code",
      "source": [
        "from nltk.tokenize import TreebankWordTokenizer"
      ],
      "metadata": {
        "id": "bN1XGXcD2I5N"
      },
      "execution_count": 37,
      "outputs": []
    },
    {
      "cell_type": "code",
      "source": [
        "tokenizer=TreebankWordTokenizer()"
      ],
      "metadata": {
        "id": "xh3LYsU02NBU"
      },
      "execution_count": 38,
      "outputs": []
    },
    {
      "cell_type": "code",
      "source": [
        "tokenizer.tokenize(corpus)"
      ],
      "metadata": {
        "colab": {
          "base_uri": "https://localhost:8080/"
        },
        "id": "471JCcDG2Ow-",
        "outputId": "ad354ac8-390c-4d50-f3e6-61d79310cece"
      },
      "execution_count": 39,
      "outputs": [
        {
          "output_type": "execute_result",
          "data": {
            "text/plain": [
              "['Starting',\n",
              " 'with',\n",
              " 'machine',\n",
              " 'learning',\n",
              " 'basics',\n",
              " ',',\n",
              " 'NLP',\n",
              " 'extends',\n",
              " 'supervised',\n",
              " 'machine',\n",
              " 'learning',\n",
              " \"'s\",\n",
              " 'classification',\n",
              " 'and',\n",
              " 'regression',\n",
              " 'approaches',\n",
              " 'to',\n",
              " 'text-based',\n",
              " 'problems.',\n",
              " 'An',\n",
              " 'example',\n",
              " 'is',\n",
              " 'spam',\n",
              " 'classification',\n",
              " ',',\n",
              " 'where',\n",
              " 'emails',\n",
              " 'are',\n",
              " 'labeled',\n",
              " 'as',\n",
              " 'spam',\n",
              " 'or',\n",
              " 'not',\n",
              " ',',\n",
              " 'based',\n",
              " 'on',\n",
              " 'text',\n",
              " 'features',\n",
              " 'like',\n",
              " 'subject',\n",
              " 'and',\n",
              " 'body.',\n",
              " 'The',\n",
              " 'challenge',\n",
              " 'lies',\n",
              " 'in',\n",
              " 'making',\n",
              " 'text',\n",
              " 'understandable',\n",
              " 'to',\n",
              " 'models',\n",
              " ',',\n",
              " 'which',\n",
              " 'don’t',\n",
              " 'naturally',\n",
              " 'process',\n",
              " 'language',\n",
              " 'as',\n",
              " 'humans',\n",
              " 'do',\n",
              " '.']"
            ]
          },
          "metadata": {},
          "execution_count": 39
        }
      ]
    },
    {
      "cell_type": "code",
      "source": [],
      "metadata": {
        "id": "2PtDvpHg2QkQ"
      },
      "execution_count": null,
      "outputs": []
    }
  ]
}